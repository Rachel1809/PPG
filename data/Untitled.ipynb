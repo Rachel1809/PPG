{
 "cells": [
  {
   "cell_type": "code",
   "execution_count": 10,
   "id": "a105bc30-c109-48fe-ab7b-71ff30dcdb68",
   "metadata": {},
   "outputs": [
    {
     "ename": "ImportError",
     "evalue": "dlopen(/Users/lumostine/miniconda3/envs/py310/lib/python3.10/site-packages/point_cloud_utils/_pcu_internal.cpython-310-darwin.so, 0x0002): tried: '/Users/lumostine/miniconda3/envs/py310/lib/python3.10/site-packages/point_cloud_utils/_pcu_internal.cpython-310-darwin.so' (mach-o file, but is an incompatible architecture (have 'x86_64', need 'arm64')), '/System/Volumes/Preboot/Cryptexes/OS/Users/lumostine/miniconda3/envs/py310/lib/python3.10/site-packages/point_cloud_utils/_pcu_internal.cpython-310-darwin.so' (no such file), '/Users/lumostine/miniconda3/envs/py310/lib/python3.10/site-packages/point_cloud_utils/_pcu_internal.cpython-310-darwin.so' (mach-o file, but is an incompatible architecture (have 'x86_64', need 'arm64'))",
     "output_type": "error",
     "traceback": [
      "\u001b[0;31m---------------------------------------------------------------------------\u001b[0m",
      "\u001b[0;31mImportError\u001b[0m                               Traceback (most recent call last)",
      "Cell \u001b[0;32mIn[10], line 4\u001b[0m\n\u001b[1;32m      2\u001b[0m \u001b[38;5;28;01mimport\u001b[39;00m \u001b[38;5;21;01mmatplotlib\u001b[39;00m\u001b[38;5;21;01m.\u001b[39;00m\u001b[38;5;21;01mpyplot\u001b[39;00m \u001b[38;5;28;01mas\u001b[39;00m \u001b[38;5;21;01mplt\u001b[39;00m\n\u001b[1;32m      3\u001b[0m \u001b[38;5;28;01mfrom\u001b[39;00m \u001b[38;5;21;01mmpl_toolkits\u001b[39;00m\u001b[38;5;21;01m.\u001b[39;00m\u001b[38;5;21;01mmplot3d\u001b[39;00m \u001b[38;5;28;01mimport\u001b[39;00m Axes3D\n\u001b[0;32m----> 4\u001b[0m \u001b[38;5;28;01mimport\u001b[39;00m \u001b[38;5;21;01mpoint_cloud_utils\u001b[39;00m \u001b[38;5;28;01mas\u001b[39;00m \u001b[38;5;21;01mpcu\u001b[39;00m\n\u001b[1;32m      5\u001b[0m get_ipython()\u001b[38;5;241m.\u001b[39mrun_line_magic(\u001b[38;5;124m'\u001b[39m\u001b[38;5;124mmatplotlib\u001b[39m\u001b[38;5;124m'\u001b[39m, \u001b[38;5;124m'\u001b[39m\u001b[38;5;124mwidget\u001b[39m\u001b[38;5;124m'\u001b[39m)\n",
      "File \u001b[0;32m~/miniconda3/envs/py310/lib/python3.10/site-packages/point_cloud_utils/__init__.py:4\u001b[0m\n\u001b[1;32m      1\u001b[0m \u001b[38;5;28;01mfrom\u001b[39;00m \u001b[38;5;21;01mwarnings\u001b[39;00m \u001b[38;5;28;01mimport\u001b[39;00m warn\n\u001b[0;32m----> 4\u001b[0m \u001b[38;5;28;01mfrom\u001b[39;00m \u001b[38;5;21;01m.\u001b[39;00m\u001b[38;5;21;01m_pcu_internal\u001b[39;00m \u001b[38;5;28;01mimport\u001b[39;00m sample_mesh_poisson_disk, sample_mesh_random, \\\n\u001b[1;32m      5\u001b[0m     downsample_point_cloud_poisson_disk, estimate_mesh_vertex_normals, \\\n\u001b[1;32m      6\u001b[0m     estimate_mesh_face_normals, orient_mesh_faces, \\\n\u001b[1;32m      7\u001b[0m     k_nearest_neighbors, one_sided_hausdorff_distance, \\\n\u001b[1;32m      8\u001b[0m     morton_encode, morton_decode, morton_knn, \\\n\u001b[1;32m      9\u001b[0m     lloyd_2d, lloyd_3d, voronoi_centroids_unit_cube, sample_mesh_lloyd, \\\n\u001b[1;32m     10\u001b[0m     deduplicate_point_cloud, deduplicate_mesh_vertices, signed_distance_to_mesh, \\\n\u001b[1;32m     11\u001b[0m     closest_points_on_mesh, connected_components, ray_mesh_intersection, laplacian_smooth_mesh, \\\n\u001b[1;32m     12\u001b[0m     make_mesh_watertight, \\\n\u001b[1;32m     13\u001b[0m     morton_add, morton_subtract, point_cloud_fast_winding_number, \\\n\u001b[1;32m     14\u001b[0m     sparse_voxel_grid_boundary, marching_cubes_sparse_voxel_grid, decimate_triangle_mesh, \\\n\u001b[1;32m     15\u001b[0m     remove_unreferenced_mesh_vertices, mesh_face_areas, triangle_soup_fast_winding_number, \\\n\u001b[1;32m     16\u001b[0m     _voxel_mesh_internal, remove_mesh_vertices, adjacency_list\n\u001b[1;32m     17\u001b[0m     \u001b[38;5;66;03m# mesh_principal_curvatures, \\\u001b[39;00m\n\u001b[1;32m     19\u001b[0m \u001b[38;5;28;01mfrom\u001b[39;00m \u001b[38;5;21;01m.\u001b[39;00m\u001b[38;5;21;01m_sinkhorn\u001b[39;00m \u001b[38;5;28;01mimport\u001b[39;00m \u001b[38;5;241m*\u001b[39m\n",
      "\u001b[0;31mImportError\u001b[0m: dlopen(/Users/lumostine/miniconda3/envs/py310/lib/python3.10/site-packages/point_cloud_utils/_pcu_internal.cpython-310-darwin.so, 0x0002): tried: '/Users/lumostine/miniconda3/envs/py310/lib/python3.10/site-packages/point_cloud_utils/_pcu_internal.cpython-310-darwin.so' (mach-o file, but is an incompatible architecture (have 'x86_64', need 'arm64')), '/System/Volumes/Preboot/Cryptexes/OS/Users/lumostine/miniconda3/envs/py310/lib/python3.10/site-packages/point_cloud_utils/_pcu_internal.cpython-310-darwin.so' (no such file), '/Users/lumostine/miniconda3/envs/py310/lib/python3.10/site-packages/point_cloud_utils/_pcu_internal.cpython-310-darwin.so' (mach-o file, but is an incompatible architecture (have 'x86_64', need 'arm64'))"
     ]
    }
   ],
   "source": [
    "import numpy as np\n",
    "import matplotlib.pyplot as plt\n",
    "from mpl_toolkits.mplot3d import Axes3D\n",
    "import point_cloud_utils as pcu\n",
    "%matplotlib widget"
   ]
  },
  {
   "cell_type": "code",
   "execution_count": 9,
   "id": "f886f9e1-8b98-4705-afd7-8f0b284bddc9",
   "metadata": {},
   "outputs": [
    {
     "name": "stdout",
     "output_type": "stream",
     "text": [
      "Collecting point_cloud_utils\n",
      "  Using cached point_cloud_utils-0.30.4-cp310-cp310-macosx_11_0_arm64.whl.metadata (36 kB)\n",
      "Requirement already satisfied: numpy in /Users/lumostine/miniconda3/envs/py310/lib/python3.10/site-packages (from point_cloud_utils) (1.26.3)\n",
      "Requirement already satisfied: scipy in /Users/lumostine/miniconda3/envs/py310/lib/python3.10/site-packages (from point_cloud_utils) (1.12.0)\n",
      "Using cached point_cloud_utils-0.30.4-cp310-cp310-macosx_11_0_arm64.whl (8.4 MB)\n",
      "Installing collected packages: point_cloud_utils\n",
      "Successfully installed point_cloud_utils-0.30.4\n"
     ]
    }
   ],
   "source": [
    "!pip install point_cloud_utils"
   ]
  },
  {
   "cell_type": "code",
   "execution_count": null,
   "id": "81432267-03a2-46bd-8006-3b835e4c67ed",
   "metadata": {},
   "outputs": [],
   "source": [
    "def read_file(filename):\n",
    "  numbers = []\n",
    "  with open(filename, 'r') as file:\n",
    "    for line in file:\n",
    "      # Split each line into numbers\n",
    "      row = line.strip().split()\n",
    "      numbers.append([float(x) for x in row])\n",
    "\n",
    "  return np.array(numbers)"
   ]
  }
 ],
 "metadata": {
  "kernelspec": {
   "display_name": "Python 3 (ipykernel)",
   "language": "python",
   "name": "python3"
  },
  "language_info": {
   "codemirror_mode": {
    "name": "ipython",
    "version": 3
   },
   "file_extension": ".py",
   "mimetype": "text/x-python",
   "name": "python",
   "nbconvert_exporter": "python",
   "pygments_lexer": "ipython3",
   "version": "3.10.13"
  }
 },
 "nbformat": 4,
 "nbformat_minor": 5
}
