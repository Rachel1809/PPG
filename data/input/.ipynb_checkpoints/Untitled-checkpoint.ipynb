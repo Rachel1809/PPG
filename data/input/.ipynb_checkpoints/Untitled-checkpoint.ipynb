{
 "cells": [
  {
   "cell_type": "code",
   "execution_count": 1,
   "id": "fbc17ec2-98d5-4a04-bad3-d94318dcbe14",
   "metadata": {},
   "outputs": [],
   "source": [
    "import open3d as o3d\n",
    "import numpy as np\n",
    "import matplotlib.pyplot as plt\n",
    "import copy\n",
    "import os\n",
    "import sys\n",
    "import viz\n",
    "viz.interactive = not \"CI\" in os.environ"
   ]
  },
  {
   "cell_type": "code",
   "execution_count": 9,
   "id": "fdf19ed7-17bf-4018-abdc-9cf16a8dd001",
   "metadata": {},
   "outputs": [],
   "source": [
    "pcd = o3d.io.read_point_cloud(\"dc.ply\")\n",
    "points = np.array(pcd.points)\n",
    "#o3d.visualization.draw_geometries([pcd])"
   ]
  },
  {
   "cell_type": "code",
   "execution_count": 6,
   "id": "6eae7eec-892c-4ef8-bb4e-ca04456a6cba",
   "metadata": {},
   "outputs": [],
   "source": [
    "pcd.estimate_normals(search_param=o3d.geometry.KDTreeSearchParamHybrid(radius=0.1, \n",
    "                                                                       max_nn = 30))\n",
    "\n",
    "#o3d.visualization.draw_geometries([pcd], point_show_normal=True)\n",
    "                     "
   ]
  },
  {
   "cell_type": "code",
   "execution_count": 7,
   "id": "8af07fcb-c4af-43af-82ce-7094966ac793",
   "metadata": {},
   "outputs": [
    {
     "data": {
      "text/plain": [
       "71265"
      ]
     },
     "execution_count": 7,
     "metadata": {},
     "output_type": "execute_result"
    }
   ],
   "source": [
    "len(pcd.normals)"
   ]
  },
  {
   "cell_type": "code",
   "execution_count": 14,
   "id": "76427a81-9a50-43f7-a0c8-4a5dde999d6b",
   "metadata": {},
   "outputs": [
    {
     "data": {
      "text/plain": [
       "array([ 0.1522314 ,  0.0683566 , -0.98597819])"
      ]
     },
     "execution_count": 14,
     "metadata": {},
     "output_type": "execute_result"
    }
   ],
   "source": [
    " pcd.normals[0]"
   ]
  },
  {
   "cell_type": "code",
   "execution_count": 17,
   "id": "acf9ec09-e2bf-4c5d-877f-6042a81919cc",
   "metadata": {},
   "outputs": [],
   "source": [
    "normals = np.array(pcd.normals)"
   ]
  },
  {
   "cell_type": "code",
   "execution_count": 18,
   "id": "aa702ccc-9190-4d85-a40c-454b070aad66",
   "metadata": {},
   "outputs": [
    {
     "data": {
      "text/plain": [
       "array([[ 0.1522314 ,  0.0683566 , -0.98597819],\n",
       "       [ 0.1373875 , -0.0226166 , -0.99025911],\n",
       "       [ 0.041566  ,  0.1091748 , -0.9931531 ],\n",
       "       ...,\n",
       "       [-0.44103339,  0.4366703 , -0.78409731],\n",
       "       [-0.6679396 ,  0.41405311, -0.61839849],\n",
       "       [-0.76781863,  0.38073361, -0.5152635 ]])"
      ]
     },
     "execution_count": 18,
     "metadata": {},
     "output_type": "execute_result"
    }
   ],
   "source": [
    "normals"
   ]
  },
  {
   "cell_type": "code",
   "execution_count": 19,
   "id": "d071ad3b-e4ae-4804-a28f-15934325f5af",
   "metadata": {},
   "outputs": [
    {
     "data": {
      "text/plain": [
       "(71265, 3)"
      ]
     },
     "execution_count": 19,
     "metadata": {},
     "output_type": "execute_result"
    }
   ],
   "source": [
    "normals.shape"
   ]
  },
  {
   "cell_type": "code",
   "execution_count": 20,
   "id": "6f5de097-5cfe-4474-91f8-911b84e4e134",
   "metadata": {},
   "outputs": [
    {
     "data": {
      "text/plain": [
       "array([[ 30.21804619,  -6.34480762, -19.25487518],\n",
       "       [ 29.85196304,  -6.5313797 , -19.29127502],\n",
       "       [ 29.41991425,  -6.33216429, -19.4168911 ],\n",
       "       ...,\n",
       "       [-10.89770031,  26.60019112, -12.1195364 ],\n",
       "       [-11.29850483,  26.49733925, -11.98661995],\n",
       "       [-11.43900776,  26.64247513, -11.54640293]])"
      ]
     },
     "execution_count": 20,
     "metadata": {},
     "output_type": "execute_result"
    }
   ],
   "source": []
  },
  {
   "cell_type": "code",
   "execution_count": null,
   "id": "350fad5d-ac28-439c-9ec8-cf9249ec385d",
   "metadata": {},
   "outputs": [],
   "source": []
  }
 ],
 "metadata": {
  "kernelspec": {
   "display_name": "Python 3 (ipykernel)",
   "language": "python",
   "name": "python3"
  },
  "language_info": {
   "codemirror_mode": {
    "name": "ipython",
    "version": 3
   },
   "file_extension": ".py",
   "mimetype": "text/x-python",
   "name": "python",
   "nbconvert_exporter": "python",
   "pygments_lexer": "ipython3",
   "version": "3.10.13"
  }
 },
 "nbformat": 4,
 "nbformat_minor": 5
}
